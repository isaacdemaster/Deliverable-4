{
  "nbformat": 4,
  "nbformat_minor": 0,
  "metadata": {
    "colab": {
      "provenance": []
    },
    "kernelspec": {
      "name": "python3",
      "display_name": "Python 3"
    },
    "language_info": {
      "name": "python"
    }
  },
  "cells": [
    {
      "cell_type": "code",
      "source": [
        "import random\n",
        "\n",
        "def populate_list(length):\n",
        "    return [random.randint(10, 50) for _ in range(length)]\n",
        "\n",
        "def sum_list(lst):\n",
        "    return sum(lst)\n",
        "\n",
        "while True:\n",
        "    user_entry = int(input(\"Enter an integer between 5 and 15: \"))\n",
        "    if user_entry >= 5 and user_entry <= 15:\n",
        "        break\n",
        "\n",
        "lst = populate_list(user_entry)\n",
        "print(\"The elements of the array are:\", \" \".join(str(x) for x in lst))\n",
        "\n",
        "total_sum = sum_list(lst)\n",
        "print(\"The sum is:\", total_sum)"
      ],
      "metadata": {
        "colab": {
          "base_uri": "https://localhost:8080/"
        },
        "id": "8BTGeBJXCWPQ",
        "outputId": "58477921-c634-46a5-8cab-25ad07ee96b6"
      },
      "execution_count": 7,
      "outputs": [
        {
          "output_type": "stream",
          "name": "stdout",
          "text": [
            "Enter an integer between 5 and 15: 25\n",
            "Enter an integer between 5 and 15: 10\n",
            "The elements of the array are: 41 42 18 37 33 30 23 36 48 34\n",
            "The sum is: 342\n"
          ]
        }
      ]
    }
  ]
}